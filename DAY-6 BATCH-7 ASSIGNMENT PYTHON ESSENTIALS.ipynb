{
 "cells": [
  {
   "cell_type": "markdown",
   "metadata": {},
   "source": [
    "# Assignment 1 Day 6"
   ]
  },
  {
   "cell_type": "code",
   "execution_count": 2,
   "metadata": {},
   "outputs": [],
   "source": [
    "# OOPs & PI"
   ]
  },
  {
   "cell_type": "code",
   "execution_count": 3,
   "metadata": {},
   "outputs": [],
   "source": [
    "class Bank():\n",
    "    def __init__(self,owner,balance=0):\n",
    "        self.owner = owner\n",
    "        self.balance = balance\n",
    "        \n",
    "    def deposit(self, balance):\n",
    "        self.balance+=  balance\n",
    "        return self.balance\n",
    "    \n",
    "    def withdraw(self,balance):\n",
    "            if self.balance >= balance:\n",
    "                self.balance-=balance\n",
    "            else:\n",
    "                return \"You cannot withdraw money due to insufficiant balance \" + str(self.balance) + ' is avaliable'\n",
    "            return self.balance"
   ]
  },
  {
   "cell_type": "code",
   "execution_count": 8,
   "metadata": {},
   "outputs": [],
   "source": [
    "account1 = Bank('account1', 200)"
   ]
  },
  {
   "cell_type": "code",
   "execution_count": 9,
   "metadata": {},
   "outputs": [
    {
     "data": {
      "text/plain": [
       "600"
      ]
     },
     "execution_count": 9,
     "metadata": {},
     "output_type": "execute_result"
    }
   ],
   "source": [
    "account1.deposit(400)"
   ]
  },
  {
   "cell_type": "code",
   "execution_count": 11,
   "metadata": {},
   "outputs": [
    {
     "data": {
      "text/plain": [
       "'You cannot withdraw money due to insufficiant balance 600 is avaliable'"
      ]
     },
     "execution_count": 11,
     "metadata": {},
     "output_type": "execute_result"
    }
   ],
   "source": [
    "account1.withdraw(1000)"
   ]
  },
  {
   "cell_type": "code",
   "execution_count": 14,
   "metadata": {},
   "outputs": [
    {
     "data": {
      "text/plain": [
       "'You cannot withdraw money due to insufficiant balance 100 is avaliable'"
      ]
     },
     "execution_count": 14,
     "metadata": {},
     "output_type": "execute_result"
    }
   ],
   "source": [
    "account1.withdraw(500)"
   ]
  },
  {
   "cell_type": "markdown",
   "metadata": {},
   "source": [
    "# Assignment 2 Day 6"
   ]
  },
  {
   "cell_type": "code",
   "execution_count": 15,
   "metadata": {},
   "outputs": [],
   "source": [
    "#OOPS (cone class with atributes- radius and hieght)"
   ]
  },
  {
   "cell_type": "code",
   "execution_count": 32,
   "metadata": {},
   "outputs": [
    {
     "name": "stdout",
     "output_type": "stream",
     "text": [
      "Volume Of Cone :  94.24777960769379\n",
      "Surface Area Of Cone :  131.94689145077132\n"
     ]
    }
   ],
   "source": [
    "import math \n",
    "pi = math.pi \n",
    "  \n",
    " \n",
    "def volume(r, h): \n",
    "    return (1 / 3) * pi * r * r * h \n",
    "  \n",
    "\n",
    "def surfacearea(r, s): \n",
    "    return pi * r * s + pi * r * r \n",
    "  \n",
    "# Driver Code \n",
    "radius = float(3) \n",
    "height = float(10) \n",
    "slat_height = float(11) \n",
    "print( \"Volume Of Cone : \", volume(radius, height) ) \n",
    "print( \"Surface Area Of Cone : \", surfacearea(radius, slat_height) )"
   ]
  }
 ],
 "metadata": {
  "kernelspec": {
   "display_name": "Python 3",
   "language": "python",
   "name": "python3"
  },
  "language_info": {
   "codemirror_mode": {
    "name": "ipython",
    "version": 3
   },
   "file_extension": ".py",
   "mimetype": "text/x-python",
   "name": "python",
   "nbconvert_exporter": "python",
   "pygments_lexer": "ipython3",
   "version": "3.7.3"
  }
 },
 "nbformat": 4,
 "nbformat_minor": 2
}
